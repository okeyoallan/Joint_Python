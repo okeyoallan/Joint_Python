{
 "cells": [
  {
   "cell_type": "markdown",
   "id": "6c439d3c-6c7d-4d2c-9160-33cba0e130e7",
   "metadata": {},
   "source": [
    "# EXERCISES\n",
    "## QUESTION 1:\n",
    "\n",
    "\n",
    "Given the following amino acid sequence (MNKMDLVADVAEKTDLSKAKATEVIDAVFA), find the first, last and the 5th amino acids in the sequence."
   ]
  },
  {
   "cell_type": "code",
   "execution_count": 5,
   "id": "2a9eadb4-d803-4586-a2f3-4aacaba27fa1",
   "metadata": {},
   "outputs": [],
   "source": [
    "AAsequence=\"MNKMDLVADVAEKTDLSKAKATEVIDAVFA\""
   ]
  },
  {
   "cell_type": "code",
   "execution_count": 6,
   "id": "af1fbba3-a9a2-449c-ae7f-0d366acbb5ef",
   "metadata": {},
   "outputs": [
    {
     "name": "stdout",
     "output_type": "stream",
     "text": [
      "MNKMDLVADVAEKTDLSKAKATEVIDAVFA\n"
     ]
    }
   ],
   "source": [
    "print(AAsequence)"
   ]
  },
  {
   "cell_type": "code",
   "execution_count": 7,
   "id": "6e0a8290-cac7-4e83-b825-6d263e33292f",
   "metadata": {},
   "outputs": [
    {
     "data": {
      "text/plain": [
       "30"
      ]
     },
     "execution_count": 7,
     "metadata": {},
     "output_type": "execute_result"
    }
   ],
   "source": [
    "len(AAsequence)"
   ]
  },
  {
   "cell_type": "code",
   "execution_count": 8,
   "id": "d09e3b78-1140-4e05-9e3a-af4756c05283",
   "metadata": {},
   "outputs": [
    {
     "name": "stdout",
     "output_type": "stream",
     "text": [
      "First Amino Acid of the sequence is M\n",
      "Fifth Amino Acid of the sequence is D\n",
      "3oth Amino Acid of the sequence is A\n"
     ]
    }
   ],
   "source": [
    "AAsequence= \"MNKMDLVADVAEKTDLSKAKATEVIDAVFA\"                       #Using indexes to find amino acids\n",
    "print(\"First Amino Acid of the sequence is\",AAsequence[0])\n",
    "print(\"Fifth Amino Acid of the sequence is\",AAsequence[4])\n",
    "print(\"3oth Amino Acid of the sequence is\",AAsequence[len(AAsequence)-1])   "
   ]
  },
  {
   "cell_type": "markdown",
   "id": "f631efbf-a212-4f50-a08c-064d10d53a96",
   "metadata": {},
   "source": [
    "## QUESTION 2:\n",
    "\n",
    "The above amino acid is a bacterial restriction enzyme that recognizes \"TCCGGA\". Find the first restriction site in the following sequence: AAAAATCCCGAGGCGGCTATATAGGGCTCCGGAGGCGTAATATAAAA"
   ]
  },
  {
   "cell_type": "code",
   "execution_count": 2,
   "id": "365b0a3c-a7c4-4eb3-8507-4c2826f321df",
   "metadata": {},
   "outputs": [],
   "source": [
    "Renzyme= \"AAAAATCCCGAGGCGGCTATATAGGGCTCCGGAGGCGTAATATAAAA\""
   ]
  },
  {
   "cell_type": "code",
   "execution_count": 15,
   "id": "d1fceb70-b9d6-4d6f-bf22-e9c1a55fe775",
   "metadata": {},
   "outputs": [
    {
     "data": {
      "text/plain": [
       "True"
      ]
     },
     "execution_count": 15,
     "metadata": {},
     "output_type": "execute_result"
    }
   ],
   "source": [
    "\"TCCGGA\" in Renzyme"
   ]
  },
  {
   "cell_type": "code",
   "execution_count": 3,
   "id": "e0d57822-9103-4028-a58c-738d32e02587",
   "metadata": {},
   "outputs": [
    {
     "data": {
      "text/plain": [
       "27"
      ]
     },
     "execution_count": 3,
     "metadata": {},
     "output_type": "execute_result"
    }
   ],
   "source": [
    "Renzyme.find(\"TCCGGA\")              #Using find tfunction to find position of a site "
   ]
  },
  {
   "cell_type": "markdown",
   "id": "8a3a8bd5-3adc-48e6-8d4f-d98d77a2a98d",
   "metadata": {},
   "source": [
    "## QUESTION 3:\n",
    "\n",
    "Using strings, lists, tuples and dictionaries concepts, find the reverse complement of AAAAATCCCGAGGCGGCTATATAGGGCTCCGGAGGCGTAATATAAAA"
   ]
  },
  {
   "cell_type": "markdown",
   "id": "fd9c093e-1975-4f85-bd99-420146e0aae1",
   "metadata": {},
   "source": [
    "* USING STRINGS"
   ]
  },
  {
   "cell_type": "code",
   "execution_count": 23,
   "id": "9a451dec-4899-4998-bbdd-140cb2c873bc",
   "metadata": {},
   "outputs": [],
   "source": [
    "NA=\"AAAAATCCCGAGGCGGCTATATAGGGCTCCGGAGGCGTAATATAAAA\""
   ]
  },
  {
   "cell_type": "code",
   "execution_count": 24,
   "id": "2776f821-af5d-45c8-ab46-b4076ae98156",
   "metadata": {},
   "outputs": [
    {
     "data": {
      "text/plain": [
       "'TTTTTAGGGCTCCGCCGATATATCCCGAGGCCTCCGCATTATATTTT'"
      ]
     },
     "execution_count": 24,
     "metadata": {},
     "output_type": "execute_result"
    }
   ],
   "source": [
    "NA.replace(\"A\",\"t\").replace(\"T\",\"a\").replace(\"C\",\"g\").replace(\"G\",\"c\").upper()  "
   ]
  },
  {
   "cell_type": "markdown",
   "id": "7cced489-5faf-4cb6-8e42-ce63bd18d6ce",
   "metadata": {},
   "source": [
    "* USING LISTS"
   ]
  },
  {
   "cell_type": "code",
   "execution_count": 25,
   "id": "f3c6c09f-3109-4b5e-a24e-0719d6f0743a",
   "metadata": {},
   "outputs": [],
   "source": [
    "NA=\"AAAAATCCCGAGGCGGCTATATAGGGCTCCGGAGGCGTAATATAAAA\""
   ]
  },
  {
   "cell_type": "code",
   "execution_count": 26,
   "id": "0f021e87-214d-4a6a-99cb-482938caf0b2",
   "metadata": {},
   "outputs": [],
   "source": [
    "comp_NA=[]"
   ]
  },
  {
   "cell_type": "code",
   "execution_count": 27,
   "id": "a5d243e9-3f01-4224-bdb3-510b6b718ca4",
   "metadata": {},
   "outputs": [
    {
     "name": "stdout",
     "output_type": "stream",
     "text": [
      "['T', 'T', 'T', 'T', 'T', 'A', 'G', 'G', 'G', 'C', 'T', 'C', 'C', 'G', 'C', 'C', 'G', 'A', 'T', 'A', 'T', 'A', 'T', 'C', 'C', 'C', 'G', 'A', 'G', 'G', 'C', 'C', 'T', 'C', 'C', 'G', 'C', 'A', 'T', 'T', 'A', 'T', 'A', 'T', 'T', 'T', 'T']\n"
     ]
    }
   ],
   "source": [
    "for letter in NA:\n",
    "    if letter== \"A\":\n",
    "        comp_NA.append(\"T\")\n",
    "    elif letter== \"T\":\n",
    "        comp_NA.append(\"A\")\n",
    "    elif letter== \"C\":\n",
    "        comp_NA.append(\"G\")\n",
    "    elif letter== \"G\":\n",
    "        comp_NA.append(\"C\")\n",
    "print(comp_NA)"
   ]
  },
  {
   "cell_type": "markdown",
   "id": "f25fe0df-2158-415d-bc76-cd3074f533da",
   "metadata": {},
   "source": [
    "* USING DICTIONARY"
   ]
  },
  {
   "cell_type": "code",
   "execution_count": 5,
   "id": "ff74b1f3-8d93-4ed7-a060-edcea2363e5f",
   "metadata": {},
   "outputs": [],
   "source": [
    "DNA_strand=\"AAAAATCCCGAGGCGGCTATATAGGGCTCCGGAGGCGTAATATAAAA\""
   ]
  },
  {
   "cell_type": "code",
   "execution_count": 13,
   "id": "06855a96-5492-4f83-96bc-c85167a990c1",
   "metadata": {},
   "outputs": [],
   "source": [
    "NA={\"DNA\":DNA_strand}          #Putting the Dna_strand as a value of the DNA key in the NA dictionary"
   ]
  },
  {
   "cell_type": "code",
   "execution_count": 8,
   "id": "c0bec3c8-f8f0-468d-bdac-20a8690410f7",
   "metadata": {},
   "outputs": [
    {
     "data": {
      "text/plain": [
       "{'DNA': 'AAAAATCCCGAGGCGGCTATATAGGGCTCCGGAGGCGTAATATAAAA'}"
      ]
     },
     "execution_count": 8,
     "metadata": {},
     "output_type": "execute_result"
    }
   ],
   "source": [
    "NA"
   ]
  },
  {
   "cell_type": "code",
   "execution_count": 14,
   "id": "43e47f9c-6751-4507-bb2e-b89aa29dbd04",
   "metadata": {},
   "outputs": [],
   "source": [
    "comp_DNA=[]         #Creating a new list in which a reversed Dna_stand will be stored"
   ]
  },
  {
   "cell_type": "code",
   "execution_count": 17,
   "id": "1546e71b-fc29-426c-99c9-32619677a070",
   "metadata": {},
   "outputs": [
    {
     "name": "stdout",
     "output_type": "stream",
     "text": [
      "['T', 'T', 'T', 'T', 'T', 'A', 'G', 'G', 'G', 'C', 'T', 'C', 'C', 'G', 'C', 'C', 'G', 'A', 'T', 'A', 'T', 'A', 'T', 'C', 'C', 'C', 'G', 'A', 'G', 'G', 'C', 'C', 'T', 'C', 'C', 'G', 'C', 'A', 'T', 'T', 'A', 'T', 'A', 'T', 'T', 'T', 'T']\n"
     ]
    }
   ],
   "source": [
    "for letter in DNA_strand:\n",
    "    if letter== \"A\":\n",
    "        comp_DNA.append(\"T\")\n",
    "    elif letter== \"T\":\n",
    "        comp_DNA.append(\"A\")\n",
    "    elif letter== \"C\":\n",
    "        comp_DNA.append(\"G\")\n",
    "    elif letter== \"G\":\n",
    "        comp_DNA.append(\"C\")\n",
    "print(comp_DNA)"
   ]
  },
  {
   "cell_type": "code",
   "execution_count": 15,
   "id": "aee7d9e8-2021-47d3-8b3b-1dac32814001",
   "metadata": {},
   "outputs": [],
   "source": [
    "NA[\"DNA\"]=comp_DNA     #Replacing the Dna_strand value with a new value comp_DNA"
   ]
  },
  {
   "cell_type": "code",
   "execution_count": 18,
   "id": "1cd625e1-f0ef-4910-b48a-0deb115b63f6",
   "metadata": {},
   "outputs": [
    {
     "data": {
      "text/plain": [
       "{'DNA': ['T',\n",
       "  'T',\n",
       "  'T',\n",
       "  'T',\n",
       "  'T',\n",
       "  'A',\n",
       "  'G',\n",
       "  'G',\n",
       "  'G',\n",
       "  'C',\n",
       "  'T',\n",
       "  'C',\n",
       "  'C',\n",
       "  'G',\n",
       "  'C',\n",
       "  'C',\n",
       "  'G',\n",
       "  'A',\n",
       "  'T',\n",
       "  'A',\n",
       "  'T',\n",
       "  'A',\n",
       "  'T',\n",
       "  'C',\n",
       "  'C',\n",
       "  'C',\n",
       "  'G',\n",
       "  'A',\n",
       "  'G',\n",
       "  'G',\n",
       "  'C',\n",
       "  'C',\n",
       "  'T',\n",
       "  'C',\n",
       "  'C',\n",
       "  'G',\n",
       "  'C',\n",
       "  'A',\n",
       "  'T',\n",
       "  'T',\n",
       "  'A',\n",
       "  'T',\n",
       "  'A',\n",
       "  'T',\n",
       "  'T',\n",
       "  'T',\n",
       "  'T']}"
      ]
     },
     "execution_count": 18,
     "metadata": {},
     "output_type": "execute_result"
    }
   ],
   "source": [
    "NA"
   ]
  },
  {
   "cell_type": "markdown",
   "id": "0b4363f1-d0d1-46c3-b082-56a7832f109d",
   "metadata": {},
   "source": [
    "## QUESTION 4:\n",
    "\n",
    "Write a function percentageGC that calculates the GC content of a DNA sequence\n",
    "The function should return the %GC content\n",
    "The Function should return a message if the provided sequence is not DNA (This should be checked by a different function, called by your function)"
   ]
  },
  {
   "cell_type": "markdown",
   "id": "7291e9dc-f449-4e21-b156-20f17ae77c25",
   "metadata": {},
   "source": [
    "**Solution 1:**"
   ]
  },
  {
   "cell_type": "code",
   "execution_count": 187,
   "id": "5cb47402-b9e5-468b-9ef1-933b8356ca76",
   "metadata": {},
   "outputs": [
    {
     "name": "stdout",
     "output_type": "stream",
     "text": [
      "There is an invalid base 'F' at position 3\n",
      "There is an invalid base 'R' at position 4\n",
      "There is an invalid base 'H' at position 12\n",
      "There is an invalid base 'H' at position 14\n",
      "There is an invalid base 'Y' at position 15\n",
      "There is an invalid base 'K' at position 17\n"
     ]
    }
   ],
   "source": [
    "def dnaverify(dna):\n",
    "    '''verifies valid dna and nullifies invalid dna'''\n",
    "    counter = 0\n",
    "    check = True\n",
    "    good_dna = 'ACGT'\n",
    "    for i in dna.upper():                                #if i is A,G,C, or T, it is valid and hence check value is returned as true\n",
    "        counter += 1\n",
    "        if i in good_dna:\n",
    "            pass\n",
    "        else:\n",
    "            check = False                                #if not valid,invalid base value and position is printed because of counter\n",
    "            print(\"There is an invalid base '%s' at position %d\"\n",
    "                  % (i,counter))\n",
    "    return check\n",
    "\n",
    "def percentGC(dna):\n",
    "    '''calculation for the percentage GC content once a DNA sequence is given'''\n",
    "    if dnaverify(dna):                                   #if verified by the function above, percentage of GC is obtained\n",
    "        dna_len= len(dna)    \n",
    "        gs = dna.count('G')\n",
    "        cs = dna.count('C')\n",
    "        \n",
    "        return (gs+cs)/dna_len*100                       #formula for percentage GC\n",
    "\n",
    "\n",
    "thedna = \"ATFRACGATTGHAHYAK\"\n",
    "percentGC(thedna)"
   ]
  },
  {
   "cell_type": "code",
   "execution_count": 197,
   "id": "bc7e4674-6f2e-4490-a488-f3d028c500c3",
   "metadata": {},
   "outputs": [],
   "source": [
    "t_DNA=\"AGCTCCTA\""
   ]
  },
  {
   "cell_type": "code",
   "execution_count": 198,
   "id": "18d2cfc0-1509-492c-a07f-21535e58ebe2",
   "metadata": {},
   "outputs": [
    {
     "data": {
      "text/plain": [
       "True"
      ]
     },
     "execution_count": 198,
     "metadata": {},
     "output_type": "execute_result"
    }
   ],
   "source": [
    "dnaverify(t_DNA)"
   ]
  },
  {
   "cell_type": "code",
   "execution_count": 199,
   "id": "d4feefc6-7580-4e1f-aa78-b5e829a4f78c",
   "metadata": {},
   "outputs": [
    {
     "data": {
      "text/plain": [
       "50.0"
      ]
     },
     "execution_count": 199,
     "metadata": {},
     "output_type": "execute_result"
    }
   ],
   "source": [
    "percentGC(t_DNA)"
   ]
  },
  {
   "cell_type": "markdown",
   "id": "696b6ed0-37f7-4749-84ac-76995d9398b3",
   "metadata": {},
   "source": [
    "**Solution 2:**"
   ]
  },
  {
   "cell_type": "code",
   "execution_count": 203,
   "id": "b80a1d58-8e67-461d-9e9f-209d80175f35",
   "metadata": {},
   "outputs": [],
   "source": [
    "def dnachk(dna):                                   \n",
    "    for i in dna:                                  \n",
    "        if i==\"A\" or i==\"G\" or i==\"C\" or i==\"T\":\n",
    "            continue                               #if the base is equal to A/G/T/C then the loop should continue\n",
    "            \n",
    "        else:\n",
    "            return False                           #if the base is not A/G/T/C the function should return false\n",
    "        \n",
    "    return True                                    #if the base is equal to A/G/T/C the function should return true\n",
    "\n",
    "def pct_GC(D):\n",
    "    if dnachk(D):                                  #if the dna check function is true then the percentageGC function should calculate \n",
    "        D_len=len(D)\n",
    "        g=D.count(\"G\")\n",
    "        c=D.count(\"C\")\n",
    "        print((g+c)/len(D)*100)                    #calculation of the percentage content of GC in the dna sequence\n",
    "    else:\n",
    "        print(\"Invalid sequence\")                  #if the dna check function "
   ]
  },
  {
   "cell_type": "code",
   "execution_count": 204,
   "id": "23ff9810-4fde-4c49-9419-a5b1767ba0d4",
   "metadata": {},
   "outputs": [
    {
     "data": {
      "text/plain": [
       "False"
      ]
     },
     "execution_count": 204,
     "metadata": {},
     "output_type": "execute_result"
    }
   ],
   "source": [
    "dnachk(thedna)"
   ]
  },
  {
   "cell_type": "code",
   "execution_count": 205,
   "id": "0e6c167d-dda0-4407-b7b3-10b7735ec1a1",
   "metadata": {},
   "outputs": [
    {
     "name": "stdout",
     "output_type": "stream",
     "text": [
      "Invalid sequence\n"
     ]
    }
   ],
   "source": [
    "pct_GC(thedna)"
   ]
  },
  {
   "cell_type": "code",
   "execution_count": 206,
   "id": "8657524c-3896-480b-ab7f-33aae75f2488",
   "metadata": {},
   "outputs": [
    {
     "data": {
      "text/plain": [
       "True"
      ]
     },
     "execution_count": 206,
     "metadata": {},
     "output_type": "execute_result"
    }
   ],
   "source": [
    "dnachk(t_DNA)"
   ]
  },
  {
   "cell_type": "code",
   "execution_count": 207,
   "id": "a2ea2d93-a6ce-4fb5-8184-b209a256e9ab",
   "metadata": {},
   "outputs": [
    {
     "name": "stdout",
     "output_type": "stream",
     "text": [
      "50.0\n"
     ]
    }
   ],
   "source": [
    "pct_GC(t_DNA)"
   ]
  },
  {
   "cell_type": "markdown",
   "id": "fd980f86-8b7e-40bd-9a08-62918ebfe18e",
   "metadata": {},
   "source": [
    "## QUESTION 5\n",
    "\n",
    "(i) Write a function the reads the file (humchr.txt) and writes to another file (gene_names.txt) a clean list of gene names."
   ]
  },
  {
   "cell_type": "code",
   "execution_count": 209,
   "id": "23d78ef0-386e-45d9-8a7d-2792ca71e0f1",
   "metadata": {},
   "outputs": [],
   "source": [
    "def get_genes(infile,outfile):\n",
    "    '''\n",
    "    Function for extracting a gene names and writing to another file\n",
    "    '''\n",
    "    gene_lst = []                             #list in which gene names will be appended to\n",
    "    with open(infile) as  g:\n",
    "        check = False                         #putting a starting point/referencing the function\n",
    "        for item in g:\n",
    "            if item.startswith('name'):       #the name is case sensitive hence wont detect Name\n",
    "                check = True                  #when the function gets to a point with the line starting with name, the starting point changes to True\n",
    "                pass                          #the false starting point is disregarded and anything that follows new starting point is passed on to continue\n",
    "            if check:                          \n",
    "                new = item.split()\n",
    "                if len(new) > 0:\n",
    "                    gene_lst.append(new[0])   #appends the first word/part of a line containing the first split word\n",
    "                \n",
    "    gene_lst = gene_lst[2:-7]                 #removing the first 2 lines and last 7 lines that dont contain the gene names\n",
    "    with open(outfile, 'w') as outfile:       #writes the gene names in a new file with each name in its own line\n",
    "        for i in gene_lst:\n",
    "            outfile.write(i+'\\n')"
   ]
  },
  {
   "cell_type": "code",
   "execution_count": 210,
   "id": "ac3db9df-1c5b-4020-a4fe-85df9691d6d8",
   "metadata": {},
   "outputs": [],
   "source": [
    "get_genes(\"../humchrx.txt\",\"../gene_names.txt\")"
   ]
  },
  {
   "cell_type": "markdown",
   "id": "3525b157-fbb7-42ac-846b-748966bd9637",
   "metadata": {},
   "source": [
    "(ii) Convert the function you wrote in exercise 1 into a python module. Then, import the module and use the function to read humchrx.txt file and create a gene list file.\n",
    "Create a stand-alone script that does all the above."
   ]
  },
  {
   "cell_type": "code",
   "execution_count": null,
   "id": "1af862be-4239-49e1-882b-06887a9e0634",
   "metadata": {},
   "outputs": [],
   "source": [
    "with open(\"gene_script.py\", 'w') as gene_script:\n",
    "    gene_script.write('''\n",
    "def get_genes(infile,outfile):\n",
    "    gene_lst = []                             \n",
    "    with open(infile) as  g:\n",
    "        check = False                         \n",
    "        for item in g:\n",
    "            if item.startswith('name'):       \n",
    "                check = True                  \n",
    "                pass                          \n",
    "            if check:                          \n",
    "                new = item.split()\n",
    "                if len(new) > 0:\n",
    "                    gene_lst.append(new[0])   \n",
    "                \n",
    "    gene_lst = gene_lst[2:-7]                 \n",
    "    with open(outfile, 'w') as outfile:       \n",
    "        for i in gene_lst:\n",
    "            outfile.write(i+\"\\\\n\")''')\n",
    "            \n",
    "import gene_script\n",
    "\n",
    "gene_script.get_genes(\"humchrx.txt\",\"gene_names.txt\")"
   ]
  }
 ],
 "metadata": {
  "kernelspec": {
   "display_name": "Python 3 (ipykernel)",
   "language": "python",
   "name": "python3"
  },
  "language_info": {
   "codemirror_mode": {
    "name": "ipython",
    "version": 3
   },
   "file_extension": ".py",
   "mimetype": "text/x-python",
   "name": "python",
   "nbconvert_exporter": "python",
   "pygments_lexer": "ipython3",
   "version": "3.8.12"
  }
 },
 "nbformat": 4,
 "nbformat_minor": 5
}
